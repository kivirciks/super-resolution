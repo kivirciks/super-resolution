{
  "nbformat": 4,
  "nbformat_minor": 0,
  "metadata": {
    "colab": {
      "provenance": []
    },
    "kernelspec": {
      "name": "python3",
      "display_name": "Python 3"
    },
    "language_info": {
      "name": "python"
    }
  },
  "cells": [
    {
      "cell_type": "code",
      "execution_count": null,
      "metadata": {
        "id": "mzZtQFMPkNai"
      },
      "outputs": [],
      "source": [
        "import numpy as np\n",
        "import tensorflow as tf\n",
        "from tensorflow.keras.layers import Add, Conv2D, Input, Lambda\n",
        "from tensorflow.keras.models import Model\n",
        "\n",
        "# Усреднение RGB каналов\n",
        "DIV2K_RGB_MEAN = np.array([0.4488, 0.4371, 0.4040]) * 255\n",
        "\n",
        "# Задание модели EDSR\n",
        "def edsr(scale, num_filters=64, num_res_blocks=8, res_block_scaling=None):\n",
        "    x_in = Input(shape=(None, None, 3))\n",
        "    x = Lambda(normalize)(x_in)\n",
        "\n",
        "    # Задание слоев сверточной нейронной сети\n",
        "    x = b = Conv2D(num_filters, 3, padding='same')(x)\n",
        "    for i in range(num_res_blocks):\n",
        "        b = res_block(b, num_filters, res_block_scaling)\n",
        "    b = Conv2D(num_filters, 3, padding='same')(b)\n",
        "    x = Add()([x, b])\n",
        "\n",
        "    x = upsample(x, scale, num_filters)\n",
        "    x = Conv2D(3, 3, padding='same')(x)\n",
        "\n",
        "    x = Lambda(denormalize)(x)\n",
        "    return Model(x_in, x, name=\"edsr\")\n",
        "\n",
        "# Задание выходных слоев EDSR\n",
        "def res_block(x_in, filters, scaling):\n",
        "    x = Conv2D(filters, 3, padding='same', activation='relu')(x_in)\n",
        "    x = Conv2D(filters, 3, padding='same')(x)\n",
        "    if scaling:\n",
        "        x = Lambda(lambda t: t * scaling)(x)\n",
        "    x = Add()([x_in, x])\n",
        "    return x\n",
        "\n",
        "# Субпиксельная свертка\n",
        "def upsample(x, scale, num_filters):\n",
        "    def upsample_1(x, factor, **kwargs):\n",
        "        x = Conv2D(num_filters * (factor ** 2), 3, padding='same', **kwargs)(x)\n",
        "        return Lambda(pixel_shuffle(scale=factor))(x)\n",
        "    if scale == 2:\n",
        "        x = upsample_1(x, 2, name='conv2d_1_scale_2')\n",
        "    elif scale == 3:\n",
        "        x = upsample_1(x, 3, name='conv2d_1_scale_3')\n",
        "    elif scale == 4:\n",
        "        x = upsample_1(x, 2, name='conv2d_1_scale_2')\n",
        "        x = upsample_1(x, 2, name='conv2d_2_scale_2')\n",
        "    return x\n",
        "\n",
        "# Перемешивание пикселей\n",
        "def pixel_shuffle(scale):\n",
        "    return lambda x: tf.nn.depth_to_space(x, scale)\n",
        "\n",
        "# Нормализация\n",
        "def normalize(x):\n",
        "    return (x - DIV2K_RGB_MEAN) / 127.5\n",
        "\n",
        "# Денормализация\n",
        "def denormalize(x):\n",
        "    return x * 127.5 + DIV2K_RGB_MEAN"
      ]
    },
    {
      "cell_type": "code",
      "source": [
        "import os\n",
        "from tensorflow.keras.optimizers import Adam\n",
        "from tensorflow.keras.optimizers.schedules import PiecewiseConstantDecay\n",
        "\n",
        "# Создание директории для сохранения весов\n",
        "weights_dir = 'weights/EDSR'\n",
        "os.makedirs(weights_dir, exist_ok=True)\n",
        "\n",
        "# EDSR baseline\n",
        "model_edsr = edsr(scale=4, num_res_blocks=16)\n",
        "\n",
        "#  Оптимизатор Адама с планировщиком, который вдвое снижает скорость обучения после 200 000 шагов\n",
        "optim_edsr = Adam(learning_rate=PiecewiseConstantDecay(boundaries=[200000], values=[1e-4, 5e-5]))\n",
        "\n",
        "# Компиляция и обучение модели для 300 000 шагов\n",
        "model_edsr.compile(optimizer=optim_edsr, loss='mean_absolute_error')\n",
        "model_edsr.fit(train_ds, epochs=300, steps_per_epoch=1000)\n",
        "\n",
        "# Сохранение весов\n",
        "model_edsr.save_weights(os.path.join(weights_dir, 'weights-edsr-16-x4.h5'))"
      ],
      "metadata": {
        "id": "AyF7tkl8kY0w"
      },
      "execution_count": null,
      "outputs": []
    }
  ]
}